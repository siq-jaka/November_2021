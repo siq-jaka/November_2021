{
 "cells": [
  {
   "cell_type": "code",
   "execution_count": null,
   "id": "90f610cd-128b-45f1-a78b-6789d65a6f08",
   "metadata": {},
   "outputs": [],
   "source": [
    "station_names = [\n",
    "    \"lighthouse\", \n",
    "    \"Harmaja\",\n",
    "    \"Suomenlinna aaltopoiju\",\n",
    "    \"Kumpula\",\n",
    "    \"Kaisaniemi\",\n",
    "]\n",
    "station_start_years = [\n",
    "    \"2003\",\n",
    "    \"1989\",\n",
    "    \"2016\",\n",
    "    \"2005\",\n",
    "    \"1844\",\n",
    "]\n",
    "print(station_names)\n",
    "type(station_names)\n",
    "print(station_start_years)\n",
    "assert len(station_names) == 5, 'The station_names list should have 5 items.'\n",
    "assert len(station_start_years) == 5, 'The station_start_years list should have 5 items.'\n",
    "\n",
    "print(station_names)\n",
    "##testpushdio\n",
    "##testpushlagidio"
   ]
  }
 ],
 "metadata": {
  "kernelspec": {
   "display_name": "Python 3 (ipykernel)",
   "language": "python",
   "name": "python3"
  },
  "language_info": {
   "codemirror_mode": {
    "name": "ipython",
    "version": 3
   },
   "file_extension": ".py",
   "mimetype": "text/x-python",
   "name": "python",
   "nbconvert_exporter": "python",
   "pygments_lexer": "ipython3",
   "version": "3.8.12"
  }
 },
 "nbformat": 4,
 "nbformat_minor": 5
}
